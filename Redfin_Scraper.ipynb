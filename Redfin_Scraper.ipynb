{
 "cells": [
  {
   "cell_type": "code",
   "execution_count": 2,
   "id": "0d887367",
   "metadata": {},
   "outputs": [
    {
     "name": "stdout",
     "output_type": "stream",
     "text": [
      "Collecting selenium\n",
      "  Obtaining dependency information for selenium from https://files.pythonhosted.org/packages/91/08/10cff8463b3510b78f9e3dcef6b37c542b06d71ed1240a8940ba0c75d3bc/selenium-4.26.1-py3-none-any.whl.metadata\n",
      "  Downloading selenium-4.26.1-py3-none-any.whl.metadata (7.1 kB)\n",
      "Requirement already satisfied: urllib3[socks]<3,>=1.26 in /Users/anjaliraj/anaconda3/lib/python3.11/site-packages (from selenium) (1.26.16)\n",
      "Collecting trio~=0.17 (from selenium)\n",
      "  Obtaining dependency information for trio~=0.17 from https://files.pythonhosted.org/packages/3c/83/ec3196c360afffbc5b342ead48d1eb7393dd74fa70bca75d33905a86f211/trio-0.27.0-py3-none-any.whl.metadata\n",
      "  Downloading trio-0.27.0-py3-none-any.whl.metadata (8.6 kB)\n",
      "Collecting trio-websocket~=0.9 (from selenium)\n",
      "  Obtaining dependency information for trio-websocket~=0.9 from https://files.pythonhosted.org/packages/48/be/a9ae5f50cad5b6f85bd2574c2c923730098530096e170c1ce7452394d7aa/trio_websocket-0.11.1-py3-none-any.whl.metadata\n",
      "  Downloading trio_websocket-0.11.1-py3-none-any.whl.metadata (4.7 kB)\n",
      "Requirement already satisfied: certifi>=2021.10.8 in /Users/anjaliraj/anaconda3/lib/python3.11/site-packages (from selenium) (2023.7.22)\n",
      "Collecting typing_extensions~=4.9 (from selenium)\n",
      "  Obtaining dependency information for typing_extensions~=4.9 from https://files.pythonhosted.org/packages/26/9f/ad63fc0248c5379346306f8668cda6e2e2e9c95e01216d2b8ffd9ff037d0/typing_extensions-4.12.2-py3-none-any.whl.metadata\n",
      "  Downloading typing_extensions-4.12.2-py3-none-any.whl.metadata (3.0 kB)\n",
      "Collecting websocket-client~=1.8 (from selenium)\n",
      "  Obtaining dependency information for websocket-client~=1.8 from https://files.pythonhosted.org/packages/5a/84/44687a29792a70e111c5c477230a72c4b957d88d16141199bf9acb7537a3/websocket_client-1.8.0-py3-none-any.whl.metadata\n",
      "  Downloading websocket_client-1.8.0-py3-none-any.whl.metadata (8.0 kB)\n",
      "Collecting attrs>=23.2.0 (from trio~=0.17->selenium)\n",
      "  Obtaining dependency information for attrs>=23.2.0 from https://files.pythonhosted.org/packages/6a/21/5b6702a7f963e95456c0de2d495f67bf5fd62840ac655dc451586d23d39a/attrs-24.2.0-py3-none-any.whl.metadata\n",
      "  Downloading attrs-24.2.0-py3-none-any.whl.metadata (11 kB)\n",
      "Requirement already satisfied: sortedcontainers in /Users/anjaliraj/anaconda3/lib/python3.11/site-packages (from trio~=0.17->selenium) (2.4.0)\n",
      "Requirement already satisfied: idna in /Users/anjaliraj/anaconda3/lib/python3.11/site-packages (from trio~=0.17->selenium) (3.4)\n",
      "Collecting outcome (from trio~=0.17->selenium)\n",
      "  Obtaining dependency information for outcome from https://files.pythonhosted.org/packages/55/8b/5ab7257531a5d830fc8000c476e63c935488d74609b50f9384a643ec0a62/outcome-1.3.0.post0-py2.py3-none-any.whl.metadata\n",
      "  Downloading outcome-1.3.0.post0-py2.py3-none-any.whl.metadata (2.6 kB)\n",
      "Collecting sniffio>=1.3.0 (from trio~=0.17->selenium)\n",
      "  Obtaining dependency information for sniffio>=1.3.0 from https://files.pythonhosted.org/packages/e9/44/75a9c9421471a6c4805dbf2356f7c181a29c1879239abab1ea2cc8f38b40/sniffio-1.3.1-py3-none-any.whl.metadata\n",
      "  Downloading sniffio-1.3.1-py3-none-any.whl.metadata (3.9 kB)\n",
      "Collecting wsproto>=0.14 (from trio-websocket~=0.9->selenium)\n",
      "  Obtaining dependency information for wsproto>=0.14 from https://files.pythonhosted.org/packages/78/58/e860788190eba3bcce367f74d29c4675466ce8dddfba85f7827588416f01/wsproto-1.2.0-py3-none-any.whl.metadata\n",
      "  Downloading wsproto-1.2.0-py3-none-any.whl.metadata (5.6 kB)\n",
      "Requirement already satisfied: PySocks!=1.5.7,<2.0,>=1.5.6 in /Users/anjaliraj/anaconda3/lib/python3.11/site-packages (from urllib3[socks]<3,>=1.26->selenium) (1.7.1)\n",
      "Collecting h11<1,>=0.9.0 (from wsproto>=0.14->trio-websocket~=0.9->selenium)\n",
      "  Obtaining dependency information for h11<1,>=0.9.0 from https://files.pythonhosted.org/packages/95/04/ff642e65ad6b90db43e668d70ffb6736436c7ce41fcc549f4e9472234127/h11-0.14.0-py3-none-any.whl.metadata\n",
      "  Downloading h11-0.14.0-py3-none-any.whl.metadata (8.2 kB)\n",
      "Downloading selenium-4.26.1-py3-none-any.whl (9.7 MB)\n",
      "\u001b[2K   \u001b[90m━━━━━━━━━━━━━━━━━━━━━━━━━━━━━━━━━━━━━━━━\u001b[0m \u001b[32m9.7/9.7 MB\u001b[0m \u001b[31m16.3 MB/s\u001b[0m eta \u001b[36m0:00:00\u001b[0m00:01\u001b[0m00:01\u001b[0m\n",
      "\u001b[?25hDownloading trio-0.27.0-py3-none-any.whl (481 kB)\n",
      "\u001b[2K   \u001b[90m━━━━━━━━━━━━━━━━━━━━━━━━━━━━━━━━━━━━━━━━\u001b[0m \u001b[32m481.7/481.7 kB\u001b[0m \u001b[31m11.3 MB/s\u001b[0m eta \u001b[36m0:00:00\u001b[0m00:01\u001b[0m\n",
      "\u001b[?25hDownloading trio_websocket-0.11.1-py3-none-any.whl (17 kB)\n",
      "Using cached typing_extensions-4.12.2-py3-none-any.whl (37 kB)\n",
      "Downloading websocket_client-1.8.0-py3-none-any.whl (58 kB)\n",
      "\u001b[2K   \u001b[90m━━━━━━━━━━━━━━━━━━━━━━━━━━━━━━━━━━━━━━━━\u001b[0m \u001b[32m58.8/58.8 kB\u001b[0m \u001b[31m8.1 MB/s\u001b[0m eta \u001b[36m0:00:00\u001b[0m\n",
      "\u001b[?25hDownloading attrs-24.2.0-py3-none-any.whl (63 kB)\n",
      "\u001b[2K   \u001b[90m━━━━━━━━━━━━━━━━━━━━━━━━━━━━━━━━━━━━━━━━\u001b[0m \u001b[32m63.0/63.0 kB\u001b[0m \u001b[31m9.8 MB/s\u001b[0m eta \u001b[36m0:00:00\u001b[0m\n",
      "\u001b[?25hDownloading sniffio-1.3.1-py3-none-any.whl (10 kB)\n",
      "Downloading wsproto-1.2.0-py3-none-any.whl (24 kB)\n",
      "Downloading outcome-1.3.0.post0-py2.py3-none-any.whl (10 kB)\n",
      "Downloading h11-0.14.0-py3-none-any.whl (58 kB)\n",
      "\u001b[2K   \u001b[90m━━━━━━━━━━━━━━━━━━━━━━━━━━━━━━━━━━━━━━━━\u001b[0m \u001b[32m58.3/58.3 kB\u001b[0m \u001b[31m6.9 MB/s\u001b[0m eta \u001b[36m0:00:00\u001b[0m\n",
      "\u001b[?25hInstalling collected packages: websocket-client, typing_extensions, sniffio, h11, attrs, wsproto, outcome, trio, trio-websocket, selenium\n",
      "  Attempting uninstall: websocket-client\n",
      "    Found existing installation: websocket-client 0.58.0\n",
      "    Uninstalling websocket-client-0.58.0:\n",
      "      Successfully uninstalled websocket-client-0.58.0\n",
      "  Attempting uninstall: typing_extensions\n",
      "    Found existing installation: typing_extensions 4.7.1\n",
      "    Uninstalling typing_extensions-4.7.1:\n",
      "      Successfully uninstalled typing_extensions-4.7.1\n",
      "  Attempting uninstall: sniffio\n",
      "    Found existing installation: sniffio 1.2.0\n",
      "    Uninstalling sniffio-1.2.0:\n",
      "      Successfully uninstalled sniffio-1.2.0\n",
      "  Attempting uninstall: attrs\n",
      "    Found existing installation: attrs 22.1.0\n",
      "    Uninstalling attrs-22.1.0:\n",
      "      Successfully uninstalled attrs-22.1.0\n",
      "Successfully installed attrs-24.2.0 h11-0.14.0 outcome-1.3.0.post0 selenium-4.26.1 sniffio-1.3.1 trio-0.27.0 trio-websocket-0.11.1 typing_extensions-4.12.2 websocket-client-1.8.0 wsproto-1.2.0\n",
      "Note: you may need to restart the kernel to use updated packages.\n"
     ]
    }
   ],
   "source": [
    "pip install selenium"
   ]
  },
  {
   "cell_type": "code",
   "execution_count": 26,
   "id": "19215863",
   "metadata": {},
   "outputs": [],
   "source": [
    "download_dir = \"/Users/anjaliraj/Documents/Capstone/Data_Download\"  # Change this to your desired folder\n",
    "\n",
    "chrome_options = Options()\n",
    "chrome_options.add_experimental_option(\"prefs\", {\n",
    "    \"download.default_directory\": download_dir,  # Set default download location\n",
    "    \"download.prompt_for_download\": False,       # Disable download prompt\n",
    "    \"safebrowsing.enabled\": True                 # Disable safe browsing warnings\n",
    "})"
   ]
  },
  {
   "cell_type": "code",
   "execution_count": 11,
   "id": "bb25029d",
   "metadata": {},
   "outputs": [],
   "source": [
    "service = Service(\"/Users/anjaliraj/Documents/Capstone/Scraping/chromedriver-mac-x64/chromedriver\")  # Replace with the path to your ChromeDriver\n",
    "driver = webdriver.Chrome(service=service, options=chrome_options)"
   ]
  },
  {
   "cell_type": "code",
   "execution_count": 25,
   "id": "ac28b7d2",
   "metadata": {},
   "outputs": [],
   "source": [
    "from selenium import webdriver\n",
    "from selenium.webdriver.common.by import By\n",
    "from selenium.webdriver.support.ui import WebDriverWait\n",
    "from selenium.webdriver.support import expected_conditions as EC\n",
    "import time"
   ]
  },
  {
   "cell_type": "code",
   "execution_count": 30,
   "id": "9ce94646",
   "metadata": {},
   "outputs": [
    {
     "name": "stdout",
     "output_type": "stream",
     "text": [
      "No cookie banner found or failed to dismiss: Message: \n",
      "Stacktrace:\n",
      "0   chromedriver                        0x0000000100d9fac4 cxxbridge1$str$ptr + 3651580\n",
      "1   chromedriver                        0x0000000100d98314 cxxbridge1$str$ptr + 3620940\n",
      "2   chromedriver                        0x00000001008004b4 cxxbridge1$string$len + 89224\n",
      "3   chromedriver                        0x0000000100844898 cxxbridge1$string$len + 368748\n",
      "4   chromedriver                        0x000000010087e0fc cxxbridge1$string$len + 604368\n",
      "5   chromedriver                        0x00000001008390b0 cxxbridge1$string$len + 321668\n",
      "6   chromedriver                        0x0000000100839d00 cxxbridge1$string$len + 324820\n",
      "7   chromedriver                        0x0000000100d6ae08 cxxbridge1$str$ptr + 3435328\n",
      "8   chromedriver                        0x0000000100d6e120 cxxbridge1$str$ptr + 3448408\n",
      "9   chromedriver                        0x0000000100d5217c cxxbridge1$str$ptr + 3333812\n",
      "10  chromedriver                        0x0000000100d6e9e0 cxxbridge1$str$ptr + 3450648\n",
      "11  chromedriver                        0x0000000100d43988 cxxbridge1$str$ptr + 3274432\n",
      "12  chromedriver                        0x0000000100d890f4 cxxbridge1$str$ptr + 3558956\n",
      "13  chromedriver                        0x0000000100d89270 cxxbridge1$str$ptr + 3559336\n",
      "14  chromedriver                        0x0000000100d97f88 cxxbridge1$str$ptr + 3620032\n",
      "15  libsystem_pthread.dylib             0x00000001939832e4 _pthread_start + 136\n",
      "16  libsystem_pthread.dylib             0x000000019397e0fc thread_start + 8\n",
      "\n",
      "Is 'Download All' button displayed? True\n",
      "Is 'Download All' button enabled? True\n",
      "Obstructing element: <a class=\"inheritColor dropdownWidget\" href=\"/rentals\" aria-expanded=\"false\" title=\"Rent Menu\" role=\"button\">Rent ▾</a>\n",
      "Download All button clicked via JavaScript\n",
      "Failed to click elsewhere to dismiss overlays: Message: element not interactable: element has zero size\n",
      "  (Session info: chrome=131.0.6778.86)\n",
      "Stacktrace:\n",
      "0   chromedriver                        0x0000000100d9fac4 cxxbridge1$str$ptr + 3651580\n",
      "1   chromedriver                        0x0000000100d98314 cxxbridge1$str$ptr + 3620940\n",
      "2   chromedriver                        0x00000001008004b4 cxxbridge1$string$len + 89224\n",
      "3   chromedriver                        0x0000000100845aac cxxbridge1$string$len + 373376\n",
      "4   chromedriver                        0x000000010083afbc cxxbridge1$string$len + 329616\n",
      "5   chromedriver                        0x000000010083aa10 cxxbridge1$string$len + 328164\n",
      "6   chromedriver                        0x000000010087e0fc cxxbridge1$string$len + 604368\n",
      "7   chromedriver                        0x00000001008390b0 cxxbridge1$string$len + 321668\n",
      "8   chromedriver                        0x0000000100839d00 cxxbridge1$string$len + 324820\n",
      "9   chromedriver                        0x0000000100d6ae08 cxxbridge1$str$ptr + 3435328\n",
      "10  chromedriver                        0x0000000100d6e120 cxxbridge1$str$ptr + 3448408\n",
      "11  chromedriver                        0x0000000100d5217c cxxbridge1$str$ptr + 3333812\n",
      "12  chromedriver                        0x0000000100d6e9e0 cxxbridge1$str$ptr + 3450648\n",
      "13  chromedriver                        0x0000000100d43988 cxxbridge1$str$ptr + 3274432\n",
      "14  chromedriver                        0x0000000100d890f4 cxxbridge1$str$ptr + 3558956\n",
      "15  chromedriver                        0x0000000100d89270 cxxbridge1$str$ptr + 3559336\n",
      "16  chromedriver                        0x0000000100d97f88 cxxbridge1$str$ptr + 3620032\n",
      "17  libsystem_pthread.dylib             0x00000001939832e4 _pthread_start + 136\n",
      "18  libsystem_pthread.dylib             0x000000019397e0fc thread_start + 8\n",
      "\n",
      "Download All button clicked via JavaScript\n"
     ]
    }
   ],
   "source": [
    "chrome_options = webdriver.ChromeOptions()\n",
    "chrome_options.add_experimental_option(\"prefs\", {\n",
    "    \"download.default_directory\": \"/path/to/download/folder\",  # Update this path\n",
    "    \"download.prompt_for_download\": False,\n",
    "    \"safebrowsing.enabled\": True\n",
    "})\n",
    "\n",
    "driver = webdriver.Chrome(options=chrome_options)\n",
    "\n",
    "try:\n",
    "    # Open the target webpage\n",
    "    url = \"https://www.redfin.com/zipcode/94041\"\n",
    "    driver.get(url)\n",
    "\n",
    "    # Step 1: Dismiss the cookie banner\n",
    "    try:\n",
    "        wait = WebDriverWait(driver, 10)\n",
    "        cookie_close_button = wait.until(\n",
    "            EC.element_to_be_clickable((By.XPATH, \"//button[contains(text(), 'Close')]\"))\n",
    "        )\n",
    "        cookie_close_button.click()\n",
    "        print(\"Cookie banner dismissed\")\n",
    "    except Exception as e:\n",
    "        print(\"No cookie banner found or failed to dismiss:\", e)\n",
    "\n",
    "    \n",
    "    # Step 2: Scroll to the \"Download All\" button\n",
    "    try:\n",
    "        wait = WebDriverWait(driver, 20)\n",
    "        download_button = wait.until(EC.presence_of_element_located((By.ID, \"download-and-save\")))\n",
    "\n",
    "        # Scroll to the button\n",
    "        driver.execute_script(\"arguments[0].scrollIntoView(true);\", download_button)\n",
    "        time.sleep(1)  # Allow the page to adjust\n",
    "\n",
    "        # Debug: Check if the button is visible\n",
    "        print(\"Is 'Download All' button displayed?\", download_button.is_displayed())\n",
    "        print(\"Is 'Download All' button enabled?\", download_button.is_enabled())\n",
    "\n",
    "        # Debug: Check for obstructions\n",
    "        obstructing_element = driver.execute_script(\"return document.elementFromPoint(485, 9);\")\n",
    "        print(\"Obstructing element:\", obstructing_element.get_attribute('outerHTML'))\n",
    "\n",
    "        # Force the click using JavaScript\n",
    "        driver.execute_script(\"arguments[0].click();\", download_button)\n",
    "        print(\"Download All button clicked via JavaScript\")\n",
    "    except Exception as e:\n",
    "        print(\"Failed to find or click 'Download All' button:\", e)\n",
    "\n",
    "        # Debug: Save the page source for inspection\n",
    "        with open(\"page_source_debug.html\", \"w\") as f:\n",
    "            f.write(driver.page_source)\n",
    "        print(\"Page source saved as 'page_source_debug.html'\")\n",
    "\n",
    "    # Step 3: Click elsewhere to remove overlays\n",
    "    try:\n",
    "        # Click on an empty area to dismiss dropdowns\n",
    "        driver.find_element(By.CSS_SELECTOR, \"body\").click()\n",
    "        time.sleep(1)\n",
    "    except Exception as e:\n",
    "        print(\"Failed to click elsewhere to dismiss overlays:\", e)\n",
    "\n",
    "    # Step 4: Force the click using JavaScript\n",
    "    try:\n",
    "        driver.execute_script(\"arguments[0].click();\", download_button)\n",
    "        print(\"Download All button clicked via JavaScript\")\n",
    "    except Exception as e:\n",
    "        print(\"Failed to click 'Download All' button via JavaScript:\", e)\n",
    "\n",
    "    # Step 5: Wait for the download to complete\n",
    "    time.sleep(10)  # Adjust this based on file size and download speed\n",
    "\n",
    "finally:\n",
    "    # Close the browser\n",
    "    driver.quit()"
   ]
  },
  {
   "cell_type": "code",
   "execution_count": 36,
   "id": "7a85f6f6",
   "metadata": {},
   "outputs": [
    {
     "ename": "SessionNotCreatedException",
     "evalue": "Message: session not created: Chrome failed to start: exited normally.\n  (session not created: DevToolsActivePort file doesn't exist)\n  (The process started from chrome location /Applications/Google Chrome.app/Contents/MacOS/Google Chrome is no longer running, so ChromeDriver is assuming that Chrome has crashed.)\nStacktrace:\n0   chromedriver                        0x00000001013a3ac4 cxxbridge1$str$ptr + 3651580\n1   chromedriver                        0x000000010139c314 cxxbridge1$str$ptr + 3620940\n2   chromedriver                        0x0000000100e044b4 cxxbridge1$string$len + 89224\n3   chromedriver                        0x0000000100e349fc cxxbridge1$string$len + 287184\n4   chromedriver                        0x0000000100e31374 cxxbridge1$string$len + 273224\n5   chromedriver                        0x0000000100e71c70 cxxbridge1$string$len + 537668\n6   chromedriver                        0x0000000100e715b8 cxxbridge1$string$len + 535948\n7   chromedriver                        0x0000000100e3d0b0 cxxbridge1$string$len + 321668\n8   chromedriver                        0x0000000100e3dd00 cxxbridge1$string$len + 324820\n9   chromedriver                        0x000000010136ee08 cxxbridge1$str$ptr + 3435328\n10  chromedriver                        0x0000000101372120 cxxbridge1$str$ptr + 3448408\n11  chromedriver                        0x000000010135617c cxxbridge1$str$ptr + 3333812\n12  chromedriver                        0x00000001013729e0 cxxbridge1$str$ptr + 3450648\n13  chromedriver                        0x0000000101347988 cxxbridge1$str$ptr + 3274432\n14  chromedriver                        0x000000010138d0f4 cxxbridge1$str$ptr + 3558956\n15  chromedriver                        0x000000010138d270 cxxbridge1$str$ptr + 3559336\n16  chromedriver                        0x000000010139bf88 cxxbridge1$str$ptr + 3620032\n17  libsystem_pthread.dylib             0x00000001939832e4 _pthread_start + 136\n18  libsystem_pthread.dylib             0x000000019397e0fc thread_start + 8\n",
     "output_type": "error",
     "traceback": [
      "\u001b[0;31m---------------------------------------------------------------------------\u001b[0m",
      "\u001b[0;31mSessionNotCreatedException\u001b[0m                Traceback (most recent call last)",
      "Cell \u001b[0;32mIn[36], line 12\u001b[0m\n\u001b[1;32m      9\u001b[0m chrome_options\u001b[38;5;241m.\u001b[39madd_argument(\u001b[38;5;124m\"\u001b[39m\u001b[38;5;124m--profile-directory=Default\u001b[39m\u001b[38;5;124m\"\u001b[39m)  \u001b[38;5;66;03m# Replace 'Default' if using another profile\u001b[39;00m\n\u001b[1;32m     11\u001b[0m \u001b[38;5;66;03m# Launch Chrome with your profile\u001b[39;00m\n\u001b[0;32m---> 12\u001b[0m driver \u001b[38;5;241m=\u001b[39m webdriver\u001b[38;5;241m.\u001b[39mChrome(options\u001b[38;5;241m=\u001b[39mchrome_options)\n",
      "File \u001b[0;32m~/anaconda3/lib/python3.11/site-packages/selenium/webdriver/chrome/webdriver.py:45\u001b[0m, in \u001b[0;36mWebDriver.__init__\u001b[0;34m(self, options, service, keep_alive)\u001b[0m\n\u001b[1;32m     42\u001b[0m service \u001b[38;5;241m=\u001b[39m service \u001b[38;5;28;01mif\u001b[39;00m service \u001b[38;5;28;01melse\u001b[39;00m Service()\n\u001b[1;32m     43\u001b[0m options \u001b[38;5;241m=\u001b[39m options \u001b[38;5;28;01mif\u001b[39;00m options \u001b[38;5;28;01melse\u001b[39;00m Options()\n\u001b[0;32m---> 45\u001b[0m \u001b[38;5;28msuper\u001b[39m()\u001b[38;5;241m.\u001b[39m\u001b[38;5;21m__init__\u001b[39m(\n\u001b[1;32m     46\u001b[0m     browser_name\u001b[38;5;241m=\u001b[39mDesiredCapabilities\u001b[38;5;241m.\u001b[39mCHROME[\u001b[38;5;124m\"\u001b[39m\u001b[38;5;124mbrowserName\u001b[39m\u001b[38;5;124m\"\u001b[39m],\n\u001b[1;32m     47\u001b[0m     vendor_prefix\u001b[38;5;241m=\u001b[39m\u001b[38;5;124m\"\u001b[39m\u001b[38;5;124mgoog\u001b[39m\u001b[38;5;124m\"\u001b[39m,\n\u001b[1;32m     48\u001b[0m     options\u001b[38;5;241m=\u001b[39moptions,\n\u001b[1;32m     49\u001b[0m     service\u001b[38;5;241m=\u001b[39mservice,\n\u001b[1;32m     50\u001b[0m     keep_alive\u001b[38;5;241m=\u001b[39mkeep_alive,\n\u001b[1;32m     51\u001b[0m )\n",
      "File \u001b[0;32m~/anaconda3/lib/python3.11/site-packages/selenium/webdriver/chromium/webdriver.py:66\u001b[0m, in \u001b[0;36mChromiumDriver.__init__\u001b[0;34m(self, browser_name, vendor_prefix, options, service, keep_alive)\u001b[0m\n\u001b[1;32m     57\u001b[0m executor \u001b[38;5;241m=\u001b[39m ChromiumRemoteConnection(\n\u001b[1;32m     58\u001b[0m     remote_server_addr\u001b[38;5;241m=\u001b[39m\u001b[38;5;28mself\u001b[39m\u001b[38;5;241m.\u001b[39mservice\u001b[38;5;241m.\u001b[39mservice_url,\n\u001b[1;32m     59\u001b[0m     browser_name\u001b[38;5;241m=\u001b[39mbrowser_name,\n\u001b[0;32m   (...)\u001b[0m\n\u001b[1;32m     62\u001b[0m     ignore_proxy\u001b[38;5;241m=\u001b[39moptions\u001b[38;5;241m.\u001b[39m_ignore_local_proxy,\n\u001b[1;32m     63\u001b[0m )\n\u001b[1;32m     65\u001b[0m \u001b[38;5;28;01mtry\u001b[39;00m:\n\u001b[0;32m---> 66\u001b[0m     \u001b[38;5;28msuper\u001b[39m()\u001b[38;5;241m.\u001b[39m\u001b[38;5;21m__init__\u001b[39m(command_executor\u001b[38;5;241m=\u001b[39mexecutor, options\u001b[38;5;241m=\u001b[39moptions)\n\u001b[1;32m     67\u001b[0m \u001b[38;5;28;01mexcept\u001b[39;00m \u001b[38;5;167;01mException\u001b[39;00m:\n\u001b[1;32m     68\u001b[0m     \u001b[38;5;28mself\u001b[39m\u001b[38;5;241m.\u001b[39mquit()\n",
      "File \u001b[0;32m~/anaconda3/lib/python3.11/site-packages/selenium/webdriver/remote/webdriver.py:238\u001b[0m, in \u001b[0;36mWebDriver.__init__\u001b[0;34m(self, command_executor, keep_alive, file_detector, options, locator_converter, web_element_cls, client_config)\u001b[0m\n\u001b[1;32m    236\u001b[0m \u001b[38;5;28mself\u001b[39m\u001b[38;5;241m.\u001b[39m_authenticator_id \u001b[38;5;241m=\u001b[39m \u001b[38;5;28;01mNone\u001b[39;00m\n\u001b[1;32m    237\u001b[0m \u001b[38;5;28mself\u001b[39m\u001b[38;5;241m.\u001b[39mstart_client()\n\u001b[0;32m--> 238\u001b[0m \u001b[38;5;28mself\u001b[39m\u001b[38;5;241m.\u001b[39mstart_session(capabilities)\n\u001b[1;32m    240\u001b[0m \u001b[38;5;28mself\u001b[39m\u001b[38;5;241m.\u001b[39m_websocket_connection \u001b[38;5;241m=\u001b[39m \u001b[38;5;28;01mNone\u001b[39;00m\n\u001b[1;32m    241\u001b[0m \u001b[38;5;28mself\u001b[39m\u001b[38;5;241m.\u001b[39m_script \u001b[38;5;241m=\u001b[39m \u001b[38;5;28;01mNone\u001b[39;00m\n",
      "File \u001b[0;32m~/anaconda3/lib/python3.11/site-packages/selenium/webdriver/remote/webdriver.py:325\u001b[0m, in \u001b[0;36mWebDriver.start_session\u001b[0;34m(self, capabilities)\u001b[0m\n\u001b[1;32m    318\u001b[0m \u001b[38;5;250m\u001b[39m\u001b[38;5;124;03m\"\"\"Creates a new session with the desired capabilities.\u001b[39;00m\n\u001b[1;32m    319\u001b[0m \n\u001b[1;32m    320\u001b[0m \u001b[38;5;124;03m:Args:\u001b[39;00m\n\u001b[1;32m    321\u001b[0m \u001b[38;5;124;03m - capabilities - a capabilities dict to start the session with.\u001b[39;00m\n\u001b[1;32m    322\u001b[0m \u001b[38;5;124;03m\"\"\"\u001b[39;00m\n\u001b[1;32m    324\u001b[0m caps \u001b[38;5;241m=\u001b[39m _create_caps(capabilities)\n\u001b[0;32m--> 325\u001b[0m response \u001b[38;5;241m=\u001b[39m \u001b[38;5;28mself\u001b[39m\u001b[38;5;241m.\u001b[39mexecute(Command\u001b[38;5;241m.\u001b[39mNEW_SESSION, caps)[\u001b[38;5;124m\"\u001b[39m\u001b[38;5;124mvalue\u001b[39m\u001b[38;5;124m\"\u001b[39m]\n\u001b[1;32m    326\u001b[0m \u001b[38;5;28mself\u001b[39m\u001b[38;5;241m.\u001b[39msession_id \u001b[38;5;241m=\u001b[39m response\u001b[38;5;241m.\u001b[39mget(\u001b[38;5;124m\"\u001b[39m\u001b[38;5;124msessionId\u001b[39m\u001b[38;5;124m\"\u001b[39m)\n\u001b[1;32m    327\u001b[0m \u001b[38;5;28mself\u001b[39m\u001b[38;5;241m.\u001b[39mcaps \u001b[38;5;241m=\u001b[39m response\u001b[38;5;241m.\u001b[39mget(\u001b[38;5;124m\"\u001b[39m\u001b[38;5;124mcapabilities\u001b[39m\u001b[38;5;124m\"\u001b[39m)\n",
      "File \u001b[0;32m~/anaconda3/lib/python3.11/site-packages/selenium/webdriver/remote/webdriver.py:380\u001b[0m, in \u001b[0;36mWebDriver.execute\u001b[0;34m(self, driver_command, params)\u001b[0m\n\u001b[1;32m    378\u001b[0m response \u001b[38;5;241m=\u001b[39m \u001b[38;5;28mself\u001b[39m\u001b[38;5;241m.\u001b[39mcommand_executor\u001b[38;5;241m.\u001b[39mexecute(driver_command, params)\n\u001b[1;32m    379\u001b[0m \u001b[38;5;28;01mif\u001b[39;00m response:\n\u001b[0;32m--> 380\u001b[0m     \u001b[38;5;28mself\u001b[39m\u001b[38;5;241m.\u001b[39merror_handler\u001b[38;5;241m.\u001b[39mcheck_response(response)\n\u001b[1;32m    381\u001b[0m     response[\u001b[38;5;124m\"\u001b[39m\u001b[38;5;124mvalue\u001b[39m\u001b[38;5;124m\"\u001b[39m] \u001b[38;5;241m=\u001b[39m \u001b[38;5;28mself\u001b[39m\u001b[38;5;241m.\u001b[39m_unwrap_value(response\u001b[38;5;241m.\u001b[39mget(\u001b[38;5;124m\"\u001b[39m\u001b[38;5;124mvalue\u001b[39m\u001b[38;5;124m\"\u001b[39m, \u001b[38;5;28;01mNone\u001b[39;00m))\n\u001b[1;32m    382\u001b[0m     \u001b[38;5;28;01mreturn\u001b[39;00m response\n",
      "File \u001b[0;32m~/anaconda3/lib/python3.11/site-packages/selenium/webdriver/remote/errorhandler.py:229\u001b[0m, in \u001b[0;36mErrorHandler.check_response\u001b[0;34m(self, response)\u001b[0m\n\u001b[1;32m    227\u001b[0m         alert_text \u001b[38;5;241m=\u001b[39m value[\u001b[38;5;124m\"\u001b[39m\u001b[38;5;124malert\u001b[39m\u001b[38;5;124m\"\u001b[39m]\u001b[38;5;241m.\u001b[39mget(\u001b[38;5;124m\"\u001b[39m\u001b[38;5;124mtext\u001b[39m\u001b[38;5;124m\"\u001b[39m)\n\u001b[1;32m    228\u001b[0m     \u001b[38;5;28;01mraise\u001b[39;00m exception_class(message, screen, stacktrace, alert_text)  \u001b[38;5;66;03m# type: ignore[call-arg]  # mypy is not smart enough here\u001b[39;00m\n\u001b[0;32m--> 229\u001b[0m \u001b[38;5;28;01mraise\u001b[39;00m exception_class(message, screen, stacktrace)\n",
      "\u001b[0;31mSessionNotCreatedException\u001b[0m: Message: session not created: Chrome failed to start: exited normally.\n  (session not created: DevToolsActivePort file doesn't exist)\n  (The process started from chrome location /Applications/Google Chrome.app/Contents/MacOS/Google Chrome is no longer running, so ChromeDriver is assuming that Chrome has crashed.)\nStacktrace:\n0   chromedriver                        0x00000001013a3ac4 cxxbridge1$str$ptr + 3651580\n1   chromedriver                        0x000000010139c314 cxxbridge1$str$ptr + 3620940\n2   chromedriver                        0x0000000100e044b4 cxxbridge1$string$len + 89224\n3   chromedriver                        0x0000000100e349fc cxxbridge1$string$len + 287184\n4   chromedriver                        0x0000000100e31374 cxxbridge1$string$len + 273224\n5   chromedriver                        0x0000000100e71c70 cxxbridge1$string$len + 537668\n6   chromedriver                        0x0000000100e715b8 cxxbridge1$string$len + 535948\n7   chromedriver                        0x0000000100e3d0b0 cxxbridge1$string$len + 321668\n8   chromedriver                        0x0000000100e3dd00 cxxbridge1$string$len + 324820\n9   chromedriver                        0x000000010136ee08 cxxbridge1$str$ptr + 3435328\n10  chromedriver                        0x0000000101372120 cxxbridge1$str$ptr + 3448408\n11  chromedriver                        0x000000010135617c cxxbridge1$str$ptr + 3333812\n12  chromedriver                        0x00000001013729e0 cxxbridge1$str$ptr + 3450648\n13  chromedriver                        0x0000000101347988 cxxbridge1$str$ptr + 3274432\n14  chromedriver                        0x000000010138d0f4 cxxbridge1$str$ptr + 3558956\n15  chromedriver                        0x000000010138d270 cxxbridge1$str$ptr + 3559336\n16  chromedriver                        0x000000010139bf88 cxxbridge1$str$ptr + 3620032\n17  libsystem_pthread.dylib             0x00000001939832e4 _pthread_start + 136\n18  libsystem_pthread.dylib             0x000000019397e0fc thread_start + 8\n"
     ]
    }
   ],
   "source": [
    "from selenium import webdriver\n",
    "\n",
    "# Path to your Chrome profile\n",
    "chrome_profile_path = \"/Users/anjaliraj/Library/Application Support/Google/Chrome\"\n",
    "\n",
    "# Set Chrome options to use your profile\n",
    "chrome_options = webdriver.ChromeOptions()\n",
    "chrome_options.add_argument(f\"--user-data-dir={chrome_profile_path}\")\n",
    "chrome_options.add_argument(\"--profile-directory=Default\")  # Replace 'Default' if using another profile\n",
    "\n",
    "# Launch Chrome with your profile\n",
    "driver = webdriver.Chrome(options=chrome_options)\n",
    "\n",
    "# Open the website\n",
    "#driver.get(\"https://www.redfin.com/zipcode/94041\")\n",
    "\n"
   ]
  },
  {
   "cell_type": "code",
   "execution_count": 33,
   "id": "c4e3a3a8",
   "metadata": {},
   "outputs": [
    {
     "name": "stdout",
     "output_type": "stream",
     "text": [
      "Cookie banner dismissed\n"
     ]
    }
   ],
   "source": [
    "# chrome_options = webdriver.ChromeOptions()\n",
    "# chrome_options.add_experimental_option(\"prefs\", {\n",
    "#     \"download.default_directory\": \"/path/to/download/folder\",  # Update this path\n",
    "#     \"download.prompt_for_download\": False,\n",
    "#     \"safebrowsing.enabled\": True\n",
    "# })\n",
    "\n",
    "# driver = webdriver.Chrome(options=chrome_options)\n",
    "\n",
    "    # Open the target webpage\n",
    "url = \"https://www.redfin.com/zipcode/94041\"\n",
    "driver.get(url)\n",
    "\n",
    "# Step 1: Dismiss the cookie banner\n",
    "try:\n",
    "    wait = WebDriverWait(driver, 10)\n",
    "    close_button = wait.until(\n",
    "        EC.element_to_be_clickable((By.CSS_SELECTOR, \"#onetrust-close-btn-container button\"))\n",
    "    )\n",
    "    close_button.click()\n",
    "    \n",
    "    print(\"Cookie banner dismissed\")\n",
    "except Exception as e:\n",
    "    print(\"No cookie banner found or failed to dismiss:\", e)\n",
    "\n",
    "wait = WebDriverWait(driver, 20)\n",
    "download_button = wait.until(EC.presence_of_element_located((By.ID, \"download-and-save\")))\n",
    "\n",
    "\n",
    "download_button.click()\n",
    "#print(download_button)\n"
   ]
  },
  {
   "cell_type": "code",
   "execution_count": 34,
   "id": "674f98c8",
   "metadata": {},
   "outputs": [
    {
     "ename": "NameError",
     "evalue": "name 'YAqQY' is not defined",
     "output_type": "error",
     "traceback": [
      "\u001b[0;31m---------------------------------------------------------------------------\u001b[0m",
      "\u001b[0;31mNameError\u001b[0m                                 Traceback (most recent call last)",
      "Cell \u001b[0;32mIn[34], line 1\u001b[0m\n\u001b[0;32m----> 1\u001b[0m Redfin_password \u001b[38;5;241m=\u001b[39m YAqQY\u001b[38;5;241m.\u001b[39mg\u001b[38;5;241m/\u001b[39mZF\u001b[38;5;241m%\u001b[39mrr24\n",
      "\u001b[0;31mNameError\u001b[0m: name 'YAqQY' is not defined"
     ]
    }
   ],
   "source": [
    "email - anjalikviim@gmail.com\n",
    "Redfin_password = YAqQY.g/ZF%rr24"
   ]
  },
  {
   "cell_type": "code",
   "execution_count": 37,
   "id": "a6c32873",
   "metadata": {},
   "outputs": [
    {
     "ename": "SyntaxError",
     "evalue": "invalid syntax (<ipython-input-37-ce242da54d76>, line 2)",
     "output_type": "error",
     "traceback": [
      "\u001b[0;36m  Cell \u001b[0;32mIn[37], line 2\u001b[0;36m\u001b[0m\n\u001b[0;31m    let downloadbtn = document.getElementById(\"download-and-save\")\u001b[0m\n\u001b[0m        ^\u001b[0m\n\u001b[0;31mSyntaxError\u001b[0m\u001b[0;31m:\u001b[0m invalid syntax\n"
     ]
    }
   ],
   "source": [
    "#Javascript code\n",
    "\n",
    "window.location.href = \"https://www.redfin.com/zipcode/94024\"\n",
    "let downloadbtn = document.getElementById(\"download-and-save\")\n",
    "downloadbtn.scrollIntoView({behavior: \"smooth\"})\n",
    "downloadbtn.click()"
   ]
  },
  {
   "cell_type": "code",
   "execution_count": null,
   "id": "e55822e5",
   "metadata": {},
   "outputs": [],
   "source": []
  }
 ],
 "metadata": {
  "kernelspec": {
   "display_name": "Python 3",
   "language": "python",
   "name": "python3"
  },
  "language_info": {
   "codemirror_mode": {
    "name": "ipython",
    "version": 3
   },
   "file_extension": ".py",
   "mimetype": "text/x-python",
   "name": "python",
   "nbconvert_exporter": "python",
   "pygments_lexer": "ipython3",
   "version": "3.11.4"
  }
 },
 "nbformat": 4,
 "nbformat_minor": 5
}
